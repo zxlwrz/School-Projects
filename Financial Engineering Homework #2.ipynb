{
 "cells": [
  {
   "cell_type": "markdown",
   "metadata": {},
   "source": [
    "# 金融工程学 第二次作业 报告\n",
    "###### 林新凯 金融工程 2016312010173"
   ]
  },
  {
   "cell_type": "markdown",
   "metadata": {},
   "source": [
    "给定欧式看涨期权定价公式如下：\n",
    "$$\n",
    "C(S_t, K, t, T, r, \\sigma)=S_tN(d_1)-e^{-r(T-t)}KN(d_2))\\tag{1}\n",
    "$$"
   ]
  },
  {
   "cell_type": "markdown",
   "metadata": {},
   "source": [
    "$$\n",
    "N(d) = \\frac{1}{\\sqrt(2\\pi)}\\int_{-\\infty}^{d}e^{-\\frac{1}{2}x^2}dx\\tag{2}\n",
    "$$"
   ]
  },
  {
   "cell_type": "markdown",
   "metadata": {},
   "source": [
    "$$\n",
    "d_1 = \\frac{\\log{\\frac{S_t}{K}}+(r+\\frac{\\sigma^2}{2})(T-t)}{\\sigma\\sqrt{T-t}}\\tag{3}\n",
    "$$"
   ]
  },
  {
   "cell_type": "markdown",
   "metadata": {},
   "source": [
    "$$\n",
    "d_2 = \\frac{\\log{\\frac{S_t}{K}}+(r-\\frac{\\sigma^2}{2})(T-t)}{\\sigma\\sqrt{T-t}}\\tag{4}\n",
    "$$"
   ]
  },
  {
   "cell_type": "code",
   "execution_count": 78,
   "metadata": {},
   "outputs": [],
   "source": [
    "# 导入所需模块。\n",
    "from math import log, exp, sqrt # 对数、指数和求根运算\n",
    "from scipy import stats         # 统计计算\n",
    "import numpy as np              # 数值计算\n",
    "import matplotlib.pyplot as plt # 作图\n",
    "\n",
    "# 定义函数计算欧式看涨期权的价格。\n",
    "\n",
    "class Option(object):\n",
    "    \n",
    "    def __init__(self, St=1, K=50, t=0, T=10, r=0.03, sigma=0.25):\n",
    "        self.St = St\n",
    "        self.K = K\n",
    "        self.t = t\n",
    "        self.T = T\n",
    "        self.r = r\n",
    "        self.sigma = sigma\n",
    "        self.d1 = (log(St/K) + (r + sigma**2/2) * (T-t)) / (sigma * sqrt(T-t))\n",
    "        self.d2 = (log(St/K) + (r - sigma**2/2) * (T-t)) / (sigma * sqrt(T-t))\n",
    "        self.C = St * stats.norm.cdf(self.d1) - exp(-r * (T-t)) * K * stats.norm.cdf(self.d2)"
   ]
  },
  {
   "cell_type": "markdown",
   "metadata": {},
   "source": [
    "# 1. $\\Delta$\n",
    "## 1.1 公式推导\n",
    "\n",
    "期权的$\\Delta$被定义为*标的资产价格变动导致的期权价格的变动*。\n",
    "在数学上就是对（1）式中求$S_t$在$C$下的偏导，即：\n",
    "\n",
    "$$\\frac{\\partial{C}}{\\partial{S_t}} = N(d_1) + S_t N'(d_1)\\frac{\\partial{d_1}}{\\partial{S_t}}-e^{-r(T-t)}KN'(d_2)\\frac{\\partial{d_2}}{\\partial{S_t}}\\tag{5}$$\n",
    "\n",
    "由（3）、（4）式，有：\n",
    "\n",
    "$$d_2 = d_1 - \\sigma\\sqrt{T-t}$$\n",
    "\n",
    "从而：\n",
    "\n",
    "$$N'(d_2) = \\frac{1}{\\sqrt(2\\pi)}e^{-\\frac{1}{2}d_2^2}$$\n",
    "\n",
    "所以：\n",
    "\n",
    "$$N'(d_2)=N'(d_1)e^{d_1\\sigma\\sqrt{T-t-\\frac{1}{2}\\sigma^2(T-t)}}$$\n",
    "\n",
    "再把$d_1$的表达式代入即可得：\n",
    "\n",
    "$$N'(d_2)=\\frac{S_t}{K}N'(d_1)e^{r(T-r)}\\tag{6}$$\n",
    "\n",
    "把（6）式代入（5）式，我们可以得到表达式：\n",
    "\n",
    "$$\\frac{\\partial{C}}{\\partial{S_t}}=N(d_1)+S_tN'(d_1)\\frac{\\partial{d_1}}{\\partial{S_t}}-S_tN'(d_1)\\frac{\\partial{d_2}}{\\partial{S_t}}$$\n",
    "\n",
    "化简之后得到最终的$\\Delta$的表达式：\n",
    "\n",
    "$$\\Delta=\\frac{\\partial{C}}{\\partial{S_t}}=N(d_1)\\tag{7}$$\n",
    "\n",
    "## 1.2 作图观察\n",
    "于是我们可以根据（7）式，对于不同的$S_t$计算相应的期权价格，并作图观察其关系："
   ]
  },
  {
   "cell_type": "code",
   "execution_count": 73,
   "metadata": {},
   "outputs": [
    {
     "data": {
      "text/plain": [
       "[<matplotlib.lines.Line2D at 0x246f4064dd8>]"
      ]
     },
     "execution_count": 73,
     "metadata": {},
     "output_type": "execute_result"
    },
    {
     "data": {
      "image/png": "[encoded data removed]",
      "text/plain": [
       "<Figure size 432x288 with 1 Axes>"
      ]
     },
     "metadata": {
      "needs_background": "light"
     },
     "output_type": "display_data"
    }
   ],
   "source": [
    "C1 = [Option(St).C for St in range(1, 100)]\n",
    "plt.plot(range(1, 100), C1)"
   ]
  },
  {
   "cell_type": "markdown",
   "metadata": {},
   "source": [
    "以及不同的$S_t$值下相应的$\\Delta$值："
   ]
  },
  {
   "cell_type": "code",
   "execution_count": 75,
   "metadata": {},
   "outputs": [
    {
     "data": {
      "text/plain": [
       "[<matplotlib.lines.Line2D at 0x246f40c5748>]"
      ]
     },
     "execution_count": 75,
     "metadata": {},
     "output_type": "execute_result"
    },
    {
     "data": {
      "image/png": "[encoded data removed]",
      "text/plain": [
       "<Figure size 432x288 with 1 Axes>"
      ]
     },
     "metadata": {
      "needs_background": "light"
     },
     "output_type": "display_data"
    }
   ],
   "source": [
    "Delta = [stats.norm.cdf(Option(St).d1) for St in range(1, 100)]\n",
    "plt.plot(range(1, 100), Delta)"
   ]
  },
  {
   "cell_type": "markdown",
   "metadata": {},
   "source": [
    "# 2. $\\Gamma$\n",
    "## 2.1 公式推导\n",
    "期权的$\\Gamma$被定义为*标的价格的变动导致的$\\Delta$值的变动*。在数学上就是对（7）式中求$\\Delta$下$S_t$的偏导，即：\n",
    "\n",
    "$$\\frac{\\partial{\\Delta}}{\\partial{S_t}} = N'(d_1)\\frac{\\partial{d_1}}{\\partial{S_t}}\\tag{8}$$\n",
    "\n",
    "并且有：\n",
    "\n",
    "$$\\frac{\\partial{d_1}}{\\partial{S_t}} = \\frac{\\frac{K}{S_t}}{\\sigma\\sqrt{T-t}}*\\frac{1}{K}=\\frac{1}{\\sigma S_t\\sqrt{T-t}}\\tag{9}$$\n",
    "\n",
    "由（8）、（9）化简整理得：\n",
    "\n",
    "$$\\Gamma = \\frac{\\partial{\\Delta}}{\\partial{S_t}} = \\frac{N'(d_1)}{\\sigma S_t\\sqrt{T-t}}\\tag{10}$$\n",
    "\n",
    "## 2.2 作图观察\n",
    "\n",
    "同理，我们对不同的$S_t$值计算相对应的$\\Gamma$值，观察其关系："
   ]
  },
  {
   "cell_type": "code",
   "execution_count": 76,
   "metadata": {},
   "outputs": [
    {
     "data": {
      "text/plain": [
       "[<matplotlib.lines.Line2D at 0x246f411bcc0>]"
      ]
     },
     "execution_count": 76,
     "metadata": {},
     "output_type": "execute_result"
    },
    {
     "data": {
      "image/png": "[encoded data removed]",
      "text/plain": [
       "<Figure size 432x288 with 1 Axes>"
      ]
     },
     "metadata": {
      "needs_background": "light"
     },
     "output_type": "display_data"
    }
   ],
   "source": [
    "def gamma(St):\n",
    "    option = Option(St)\n",
    "    return stats.norm.pdf(option.d1) / option.sigma * option.St * sqrt(option.T - option.t)\n",
    "\n",
    "Gamma = [gamma(St) for St in range(1, 100)]\n",
    "plt.plot(range(1, 100), Gamma)"
   ]
  },
  {
   "cell_type": "markdown",
   "metadata": {},
   "source": [
    "# 3. $\\Theta$\n",
    "\n",
    "## 3.1 公式推导\n",
    "\n",
    "期权的$\\Theta$被定义为*到期日的变动导致的期权价格的变动*。在数学上就是对（1）式中求$T$在$C$下的偏导，即：\n",
    "\n",
    "$$$\\Theta = \\frac{\\partial{C}}{\\partial{T}}$\n",
    "\n",
    "经过整理简化后得到：\n",
    "\n",
    "$$\\Theta = S_tN'(d_1)\\frac{\\sigma}{2\\sqrt{T-t}} + re^{-r(T-t)}KN(d_2)\\tag{11}$$\n",
    "\n",
    "## 3.2 作图观察\n",
    "\n",
    "同理，我们作图观察不同的$S_t$及相应的$\\Theta$的值："
   ]
  },
  {
   "cell_type": "code",
   "execution_count": 91,
   "metadata": {},
   "outputs": [
    {
     "data": {
      "text/plain": [
       "[<matplotlib.lines.Line2D at 0x246f4357ef0>]"
      ]
     },
     "execution_count": 91,
     "metadata": {},
     "output_type": "execute_result"
    },
    {
     "data": {
      "image/png": "[encoded data removed]",
      "text/plain": [
       "<Figure size 432x288 with 1 Axes>"
      ]
     },
     "metadata": {
      "needs_background": "light"
     },
     "output_type": "display_data"
    }
   ],
   "source": [
    "def theta(St):\n",
    "    option = Option(St)\n",
    "    return (St * stats.norm.pdf(option.d1) * option.sigma / (2*sqrt(option.T-option.t)) + \\\n",
    "            option.r * exp(-option.r*(option.T-option.t)) * option.K * stats.norm.cdf(option.d2))\n",
    "\n",
    "Theta = [-x for x in [theta(St) for St in range(1, 300)]]\n",
    "plt.plot(range(1, 300), Theta)"
   ]
  },
  {
   "cell_type": "markdown",
   "metadata": {},
   "source": [
    "# 4. $rho$\n",
    "\n",
    "## 4.1 公式推导\n",
    "\n",
    "期权的$\\rho$值衡量*无风险利率的变化导致的期权价格的变化*。在数学上就是对（1）式中求$r$在$C$下的偏导，即：\n",
    "\n",
    "$$\\frac{\\partial{C}}{\\partial{r}}= S_tN'(d_1)(\\frac{\\partial{d_1}}{\\partial{r}} - \\frac{\\partial{d_2}}{\\partial{r}}) + (T-t)e^{-r(T-t)}KN(d_2)\\tag{12}$$\n",
    "\n",
    "又有：\n",
    "\n",
    "$$\\frac{\\partial{d_1}}{\\partial{r}} = \\frac{\\partial{d_2}}{\\partial{r}}\\tag{13}$$\n",
    "\n",
    "由（12）、（13）可得最终$rho$的表达式：\n",
    "\n",
    "$$rho = \\frac{\\partial{C}}{\\partial{r}} = (T-t)e^{-r(T-t)}KN(d_2)\\tag{14}$$\n",
    "\n",
    "## 4.2 作图观察\n",
    "\n",
    "同理，我们作图观察不同的$St$及其对应的$rho$的值"
   ]
  },
  {
   "cell_type": "code",
   "execution_count": 93,
   "metadata": {},
   "outputs": [
    {
     "data": {
      "text/plain": [
       "[<matplotlib.lines.Line2D at 0x246f43cd5f8>]"
      ]
     },
     "execution_count": 93,
     "metadata": {},
     "output_type": "execute_result"
    },
    {
     "data": {
      "image/png": "[encoded data removed]",
      "text/plain": [
       "<Figure size 432x288 with 1 Axes>"
      ]
     },
     "metadata": {
      "needs_background": "light"
     },
     "output_type": "display_data"
    }
   ],
   "source": [
    "def rho(St):\n",
    "    option = Option(St)\n",
    "    return (option.T - option.t) * exp(-option.r * (option.T - option.t)) * option.K * stats.norm.cdf(option.d2)\n",
    "\n",
    "Rho = [rho(St) for St in range(1, 150)]\n",
    "plt.plot(range(1, 150), Rho)"
   ]
  }
 ],
 "metadata": {
  "kernelspec": {
   "display_name": "Python 3",
   "language": "python",
   "name": "python3"
  },
  "language_info": {
   "codemirror_mode": {
    "name": "ipython",
    "version": 3
   },
   "file_extension": ".py",
   "mimetype": "text/x-python",
   "name": "python",
   "nbconvert_exporter": "python",
   "pygments_lexer": "ipython3",
   "version": "3.7.0"
  }
 },
 "nbformat": 4,
 "nbformat_minor": 2
}
